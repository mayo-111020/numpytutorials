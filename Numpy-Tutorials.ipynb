{
 "cells": [
  {
   "cell_type": "markdown",
   "id": "a32919d1-4ead-4dd4-a098-c46c34f121f8",
   "metadata": {},
   "source": [
    "# NumPy Tutorials"
   ]
  },
  {
   "cell_type": "code",
   "execution_count": 2,
   "id": "b5eab5ec-960a-4176-8cff-ee4acd5ede24",
   "metadata": {},
   "outputs": [],
   "source": [
    "import warnings\n",
    "warnings.filterwarnings('ignore')"
   ]
  },
  {
   "cell_type": "markdown",
   "id": "ca66d82b-578a-4096-962d-80878c4ce614",
   "metadata": {},
   "source": [
    "## 1. Import NumPy"
   ]
  },
  {
   "cell_type": "code",
   "execution_count": 3,
   "id": "4b4afb3f-5b26-48ce-bbbd-08094391841a",
   "metadata": {},
   "outputs": [],
   "source": [
    "import numpy as np"
   ]
  },
  {
   "cell_type": "code",
   "execution_count": 4,
   "id": "e1b29f79-67b4-4983-b5d6-a54fbbf249d7",
   "metadata": {},
   "outputs": [
    {
     "name": "stdout",
     "output_type": "stream",
     "text": [
      "1.26.3\n"
     ]
    }
   ],
   "source": [
    "print(np.__version__)"
   ]
  },
  {
   "cell_type": "markdown",
   "id": "41bd41be-dd5f-4e21-a2c7-89331e47880b",
   "metadata": {},
   "source": [
    "## 2. Creating arrays"
   ]
  },
  {
   "cell_type": "code",
   "execution_count": 5,
   "id": "2217496c-62e6-431b-884f-2883358e1d8e",
   "metadata": {},
   "outputs": [],
   "source": [
    "x = np.array([1, 2, 3, 4, 5])"
   ]
  },
  {
   "cell_type": "code",
   "execution_count": 6,
   "id": "849d32b8-960e-48b4-8ee4-8568b41a8878",
   "metadata": {},
   "outputs": [
    {
     "name": "stdout",
     "output_type": "stream",
     "text": [
      "[1 2 3 4 5]\n"
     ]
    }
   ],
   "source": [
    "print(x)"
   ]
  },
  {
   "cell_type": "code",
   "execution_count": 7,
   "id": "4c99d139-aec2-4ab0-884f-1adfbf81f677",
   "metadata": {},
   "outputs": [
    {
     "name": "stdout",
     "output_type": "stream",
     "text": [
      "1\n"
     ]
    }
   ],
   "source": [
    "print(x.ndim)"
   ]
  },
  {
   "cell_type": "code",
   "execution_count": 8,
   "id": "d8d4a9bc-a84d-43a8-ab8d-467a142a64e7",
   "metadata": {},
   "outputs": [],
   "source": [
    "y = np.array([[1, 2, 3], [4, 5, 6]])"
   ]
  },
  {
   "cell_type": "code",
   "execution_count": 9,
   "id": "283598bd-96b2-4630-821e-819f01b10809",
   "metadata": {},
   "outputs": [
    {
     "name": "stdout",
     "output_type": "stream",
     "text": [
      "[[1 2 3]\n",
      " [4 5 6]]\n",
      "2\n"
     ]
    }
   ],
   "source": [
    "print(y)\n",
    "print(y.ndim)"
   ]
  },
  {
   "cell_type": "code",
   "execution_count": 10,
   "id": "65968999-c3e7-487b-885a-17dbad2d73ce",
   "metadata": {},
   "outputs": [
    {
     "name": "stdout",
     "output_type": "stream",
     "text": [
      "<class 'numpy.ndarray'>\n"
     ]
    }
   ],
   "source": [
    "print(type(x))"
   ]
  },
  {
   "cell_type": "code",
   "execution_count": 11,
   "id": "5841e458-3946-497f-882a-2b0d4b84f856",
   "metadata": {},
   "outputs": [
    {
     "name": "stdout",
     "output_type": "stream",
     "text": [
      "[[[[[1 2]\n",
      "    [3 4]]]]]\n",
      "5\n"
     ]
    }
   ],
   "source": [
    "z = np.array([[1, 2], [3, 4]], ndmin=5)\n",
    "print(z)\n",
    "print(z.ndim)"
   ]
  },
  {
   "cell_type": "markdown",
   "id": "da786bfc-fffa-470a-bbdc-8d6c2b7d159a",
   "metadata": {
    "jp-MarkdownHeadingCollapsed": true
   },
   "source": [
    "## 3. Indexing, accessing and slicing array elements"
   ]
  },
  {
   "cell_type": "code",
   "execution_count": 12,
   "id": "9325f558-ab38-414e-b66e-267ad0c510b6",
   "metadata": {},
   "outputs": [],
   "source": [
    "arr = np.array([[4, 3, 8], \n",
    "                [2, 5, 9], \n",
    "                [1, 6, 7]])"
   ]
  },
  {
   "cell_type": "code",
   "execution_count": 13,
   "id": "fb3cf18c-dc9c-47a3-b9bd-ed8f8d83224f",
   "metadata": {},
   "outputs": [
    {
     "name": "stdout",
     "output_type": "stream",
     "text": [
      "[2 5 9]\n"
     ]
    }
   ],
   "source": [
    "print(arr[1])"
   ]
  },
  {
   "cell_type": "code",
   "execution_count": 14,
   "id": "e161e5cf-009f-4b80-ba96-b8698245a44d",
   "metadata": {},
   "outputs": [
    {
     "name": "stdout",
     "output_type": "stream",
     "text": [
      "5 1\n"
     ]
    }
   ],
   "source": [
    "print(arr[1, 1], arr[2, 0])"
   ]
  },
  {
   "cell_type": "code",
   "execution_count": 15,
   "id": "7e7241aa-d5ce-479b-ba38-243e21b16ccb",
   "metadata": {},
   "outputs": [
    {
     "name": "stdout",
     "output_type": "stream",
     "text": [
      "[3 5] [8 9 7]\n"
     ]
    }
   ],
   "source": [
    "print(arr[0:2, 1], arr[0:3, 2])"
   ]
  },
  {
   "cell_type": "code",
   "execution_count": 16,
   "id": "3094cb50-d220-47af-8bb6-ba004df2f1b1",
   "metadata": {},
   "outputs": [
    {
     "name": "stdout",
     "output_type": "stream",
     "text": [
      "[[4 3]\n",
      " [2 5]\n",
      " [1 6]]\n"
     ]
    }
   ],
   "source": [
    "print(arr[0:3, 0:2])"
   ]
  },
  {
   "cell_type": "code",
   "execution_count": 17,
   "id": "cdb6079f-fe55-44f2-b5f0-05cd1ab1584c",
   "metadata": {},
   "outputs": [
    {
     "name": "stdout",
     "output_type": "stream",
     "text": [
      "[4 3]\n"
     ]
    }
   ],
   "source": [
    "print(arr[0, -3:-1])"
   ]
  },
  {
   "cell_type": "code",
   "execution_count": 18,
   "id": "23a913e9-3137-4d14-a9bd-6f40e1de599c",
   "metadata": {},
   "outputs": [
    {
     "name": "stdout",
     "output_type": "stream",
     "text": [
      "[5 9]\n"
     ]
    }
   ],
   "source": [
    "print(arr[-2, -2:])"
   ]
  },
  {
   "cell_type": "markdown",
   "id": "e0d081bb-ec63-47eb-acfb-c5dade5ee5cd",
   "metadata": {},
   "source": [
    "## 4. Data Types"
   ]
  },
  {
   "cell_type": "markdown",
   "id": "12861e1f-73bd-4874-b0df-22ee29228c13",
   "metadata": {},
   "source": [
    "- i - integer\n",
    "- u - unsigned integer\n",
    "- b - boolean\n",
    "- f - float\n",
    "- c - complex float\n",
    "- m - timedelta\n",
    "- M - datetime\n",
    "- O - object\n",
    "- S- string\n",
    "- U - unicode string\n",
    "- V - fixed chunk of memory for other type (void)"
   ]
  },
  {
   "cell_type": "code",
   "execution_count": 19,
   "id": "39ec26d1-e66d-4598-a7eb-683066f4cc82",
   "metadata": {},
   "outputs": [
    {
     "name": "stdout",
     "output_type": "stream",
     "text": [
      "int32\n"
     ]
    }
   ],
   "source": [
    "print(arr.dtype)"
   ]
  },
  {
   "cell_type": "code",
   "execution_count": 20,
   "id": "a2b4b26a-7ed2-4f7e-86c9-2a09c36f8683",
   "metadata": {},
   "outputs": [
    {
     "name": "stdout",
     "output_type": "stream",
     "text": [
      "<U10\n"
     ]
    }
   ],
   "source": [
    "arr1 = np.array(['apple', 'guava', 'mango', 'watermelon'])\n",
    "print(arr1.dtype)"
   ]
  },
  {
   "cell_type": "code",
   "execution_count": 21,
   "id": "5133bf15-505e-4be7-8bd5-fdfe0d595cb7",
   "metadata": {},
   "outputs": [
    {
     "name": "stdout",
     "output_type": "stream",
     "text": [
      "float64\n"
     ]
    }
   ],
   "source": [
    "arr2 = np.array([1.2, 3.6, 7.1])\n",
    "print(arr2.dtype)"
   ]
  },
  {
   "cell_type": "code",
   "execution_count": 22,
   "id": "a0b9dac5-0ac9-463e-b7a2-8100fb94cd77",
   "metadata": {},
   "outputs": [
    {
     "name": "stdout",
     "output_type": "stream",
     "text": [
      "[1 3 7]\n",
      "int32\n"
     ]
    }
   ],
   "source": [
    "# arr3 = np.array(['a', 3.6, 7.1], dtype='i')   #error\n",
    "arr3 = np.array([1.2, 3.6, 7.1], dtype='i')\n",
    "print(arr3)\n",
    "print(arr3.dtype)"
   ]
  },
  {
   "cell_type": "code",
   "execution_count": 23,
   "id": "1f32acb3-a5c1-4c3b-9649-09a313249226",
   "metadata": {},
   "outputs": [
    {
     "name": "stdout",
     "output_type": "stream",
     "text": [
      "[1.2 3.6 7.1] [1 3 7]\n",
      "float64 int32\n"
     ]
    }
   ],
   "source": [
    "arr4 = np.array([1.2, 3.6, 7.1])\n",
    "arr4_1 = arr4.astype('i')\n",
    "print(arr4, arr4_1)\n",
    "print(arr4.dtype, arr4_1.dtype)"
   ]
  },
  {
   "cell_type": "markdown",
   "id": "59a944a3-6698-4e2d-ac69-2b0c1d2a5401",
   "metadata": {},
   "source": [
    "## 5. copy() vs view()"
   ]
  },
  {
   "cell_type": "code",
   "execution_count": 24,
   "id": "a877a115-5f57-49ca-94ae-b0cdce71dc8d",
   "metadata": {},
   "outputs": [
    {
     "name": "stdout",
     "output_type": "stream",
     "text": [
      "[1 2 3 4] [1 2 3 4] [1 2 3 4]\n",
      "[1 5 3 4] [1 2 3 4] [1 5 3 4]\n"
     ]
    }
   ],
   "source": [
    "newarr = np.array([1, 2, 3, 4])\n",
    "newarr_1 = newarr.copy()\n",
    "newarr_2 = newarr.view()\n",
    "print(newarr, newarr_1, newarr_2)\n",
    "newarr[1] = 5\n",
    "print(newarr, newarr_1, newarr_2)"
   ]
  },
  {
   "cell_type": "markdown",
   "id": "c2615ac1-ad2c-47c7-9ebb-9c4410e75cb9",
   "metadata": {},
   "source": [
    "## 6. Array shape"
   ]
  },
  {
   "cell_type": "code",
   "execution_count": 25,
   "id": "f014dc3d-3ab9-441e-9fd7-ef8ec8dbac32",
   "metadata": {},
   "outputs": [
    {
     "name": "stdout",
     "output_type": "stream",
     "text": [
      "[[2 4 7]\n",
      " [8 3 4]] (2, 3)\n"
     ]
    }
   ],
   "source": [
    "a_1 = np.array([[2, 4, 7], [8, 3, 4]])\n",
    "print(a_1, a_1.shape)"
   ]
  },
  {
   "cell_type": "code",
   "execution_count": 26,
   "id": "547361e2-5a8e-43f2-982d-bcce6dc2e7ea",
   "metadata": {},
   "outputs": [
    {
     "name": "stdout",
     "output_type": "stream",
     "text": [
      "[[[[[2.3 4.2 6.3]\n",
      "    [3.  2.  5. ]]]]] (1, 1, 1, 2, 3)\n"
     ]
    }
   ],
   "source": [
    "a_2 = np.array([[2.3, 4.2, 6.3], [3, 2, 5]], ndmin=5)\n",
    "print(a_2, a_2.shape)"
   ]
  },
  {
   "cell_type": "markdown",
   "id": "73b90c49-fd5e-41f6-beb6-df2942919108",
   "metadata": {},
   "source": [
    "## 7. Reshaping array"
   ]
  },
  {
   "cell_type": "code",
   "execution_count": 27,
   "id": "1a4d4f57-6ff7-4434-a80f-e79c9ff09aa3",
   "metadata": {},
   "outputs": [
    {
     "name": "stdout",
     "output_type": "stream",
     "text": [
      "[[ 1  2  3]\n",
      " [ 4  5  6]\n",
      " [ 7  8  9]\n",
      " [10 11 12]]\n"
     ]
    }
   ],
   "source": [
    "numarr = np.array([1, 2, 3, 4, 5, 6, 7, 8, 9, 10, 11, 12])\n",
    "numarr1 = numarr.reshape(4, 3)\n",
    "print(numarr1)"
   ]
  },
  {
   "cell_type": "code",
   "execution_count": 28,
   "id": "13a2c0dc-a321-4464-8476-f90eb3297431",
   "metadata": {},
   "outputs": [
    {
     "name": "stdout",
     "output_type": "stream",
     "text": [
      "[[ 1  2]\n",
      " [ 3  4]\n",
      " [ 5  6]\n",
      " [ 7  8]\n",
      " [ 9 10]\n",
      " [11 12]]\n"
     ]
    }
   ],
   "source": [
    "print(numarr.reshape(6, 2))"
   ]
  },
  {
   "cell_type": "code",
   "execution_count": 29,
   "id": "76c04401-b56e-4768-ae20-0bac47c81a65",
   "metadata": {},
   "outputs": [
    {
     "name": "stdout",
     "output_type": "stream",
     "text": [
      "[[[ 1  2  3]\n",
      "  [ 4  5  6]]\n",
      "\n",
      " [[ 7  8  9]\n",
      "  [10 11 12]]]\n"
     ]
    }
   ],
   "source": [
    "print(numarr.reshape(2, 2, 3))"
   ]
  },
  {
   "cell_type": "code",
   "execution_count": 30,
   "id": "3dd0d7f2-424c-48ba-af06-3d2ab143eeab",
   "metadata": {},
   "outputs": [
    {
     "name": "stdout",
     "output_type": "stream",
     "text": [
      "[[[ 1  2]\n",
      "  [ 3  4]]\n",
      "\n",
      " [[ 5  6]\n",
      "  [ 7  8]]\n",
      "\n",
      " [[ 9 10]\n",
      "  [11 12]]]\n"
     ]
    }
   ],
   "source": [
    "print(numarr.reshape(3, 2, 2))"
   ]
  },
  {
   "cell_type": "code",
   "execution_count": 31,
   "id": "9d3f08ec-8d6c-4bad-b569-966ba587788c",
   "metadata": {},
   "outputs": [
    {
     "name": "stdout",
     "output_type": "stream",
     "text": [
      "[[[ 1  2]\n",
      "  [ 3  4]]\n",
      "\n",
      " [[ 5  6]\n",
      "  [ 7  8]]\n",
      "\n",
      " [[ 9 10]\n",
      "  [11 12]]]\n",
      "[ 1  2  3  4  5  6  7  8  9 10 11 12]\n"
     ]
    }
   ],
   "source": [
    "print(numarr.reshape(3, 2, -1))        # -1 can be used to automatically replace with correct value after calculation\n",
    "print(numarr.reshape(3, 2, 2).base)"
   ]
  },
  {
   "cell_type": "code",
   "execution_count": 32,
   "id": "9ea3fa7f-664c-4c7b-9268-56545ee6e9b1",
   "metadata": {},
   "outputs": [
    {
     "name": "stdout",
     "output_type": "stream",
     "text": [
      "[ 1  2  3  4  5  6  7  8  9 10 11 12]\n"
     ]
    }
   ],
   "source": [
    "# flatten multidimensional array\n",
    "print(numarr1.reshape(-1))"
   ]
  },
  {
   "cell_type": "markdown",
   "id": "ec851ef4-b80c-4bc6-8eeb-eb1f5ea8cf5e",
   "metadata": {},
   "source": [
    "There are many other advance functions."
   ]
  },
  {
   "cell_type": "markdown",
   "id": "20106a4b-1f2d-45bd-b3d1-14c5e18cbac6",
   "metadata": {},
   "source": [
    "## 8. Iterating arrays"
   ]
  },
  {
   "cell_type": "code",
   "execution_count": 33,
   "id": "53605af9-8a18-42b1-998f-d9e518cbfe43",
   "metadata": {},
   "outputs": [
    {
     "name": "stdout",
     "output_type": "stream",
     "text": [
      "1\n",
      "2\n",
      "3\n",
      "4\n",
      "5\n",
      "6\n",
      "7\n",
      "8\n",
      "9\n",
      "10\n",
      "11\n",
      "12\n"
     ]
    }
   ],
   "source": [
    "for i in numarr:\n",
    "    print(i)"
   ]
  },
  {
   "cell_type": "code",
   "execution_count": 34,
   "id": "7f5f95ef-e693-405f-85bd-dc36ed258524",
   "metadata": {},
   "outputs": [
    {
     "name": "stdout",
     "output_type": "stream",
     "text": [
      "[1 2 3]\n",
      "[4 5 6]\n",
      "[7 8 9]\n",
      "[10 11 12]\n",
      "1\n",
      "2\n",
      "3\n",
      "4\n",
      "5\n",
      "6\n",
      "7\n",
      "8\n",
      "9\n",
      "10\n",
      "11\n",
      "12\n"
     ]
    }
   ],
   "source": [
    "for i in numarr1:\n",
    "    print(i) \n",
    "for i in numarr1:\n",
    "    for a in i:\n",
    "        print(a)"
   ]
  },
  {
   "cell_type": "code",
   "execution_count": 35,
   "id": "e0317985-7282-4805-97a7-5c96a9b92606",
   "metadata": {},
   "outputs": [
    {
     "name": "stdout",
     "output_type": "stream",
     "text": [
      "1\n",
      "2\n",
      "3\n",
      "4\n",
      "5\n",
      "6\n",
      "7\n",
      "8\n"
     ]
    }
   ],
   "source": [
    "rt = np.array([[[1, 2], [3, 4]], [[5, 6], [7, 8]]])\n",
    "for i in rt:\n",
    "    for a in i:\n",
    "        for b in a:\n",
    "            print(b)"
   ]
  },
  {
   "cell_type": "code",
   "execution_count": 36,
   "id": "cd4e53b4-7199-4480-99de-d98060735a5c",
   "metadata": {},
   "outputs": [
    {
     "name": "stdout",
     "output_type": "stream",
     "text": [
      "1\n",
      "2\n",
      "3\n",
      "4\n",
      "5\n",
      "6\n",
      "7\n",
      "8\n"
     ]
    }
   ],
   "source": [
    "for i in np.nditer(rt):\n",
    "    print(i)"
   ]
  },
  {
   "cell_type": "code",
   "execution_count": 37,
   "id": "b4421995-26e5-4376-a27a-0469948c4cc6",
   "metadata": {},
   "outputs": [
    {
     "name": "stdout",
     "output_type": "stream",
     "text": [
      "[[ 1  2  3]\n",
      " [ 4  5  6]\n",
      " [ 7  8  9]\n",
      " [10 11 12]]\n"
     ]
    }
   ],
   "source": [
    "print(numarr1)"
   ]
  },
  {
   "cell_type": "code",
   "execution_count": 38,
   "id": "66377a6e-2f3b-4996-9f5d-c94d4374b613",
   "metadata": {},
   "outputs": [
    {
     "name": "stdout",
     "output_type": "stream",
     "text": [
      "2\n",
      "3\n",
      "5\n",
      "6\n",
      "8\n",
      "9\n",
      "11\n",
      "12\n"
     ]
    }
   ],
   "source": [
    "for i in np.nditer(numarr1[:, 1:]):\n",
    "    print(i)"
   ]
  },
  {
   "cell_type": "markdown",
   "id": "19dad632-0c1f-45c9-b488-cf3c5cd64362",
   "metadata": {},
   "source": [
    "## 9. Concatenation of arrays"
   ]
  },
  {
   "cell_type": "code",
   "execution_count": 39,
   "id": "f475b1bd-9014-459f-b255-7acc28dff523",
   "metadata": {},
   "outputs": [
    {
     "name": "stdout",
     "output_type": "stream",
     "text": [
      "[1 2 3 4 5 6 7 8]\n"
     ]
    }
   ],
   "source": [
    "a = np.array([1, 2, 3, 4])\n",
    "b = np.array([5, 6, 7, 8])\n",
    "c = np.concatenate((a, b))\n",
    "print(c)"
   ]
  },
  {
   "cell_type": "code",
   "execution_count": 40,
   "id": "c2d532f1-ff64-4363-b86c-0f23d42ae0b1",
   "metadata": {},
   "outputs": [
    {
     "name": "stdout",
     "output_type": "stream",
     "text": [
      "[[1 2]\n",
      " [3 4]\n",
      " [5 6]\n",
      " [7 8]]\n",
      "[[1 2 5 6]\n",
      " [3 4 7 8]]\n"
     ]
    }
   ],
   "source": [
    "m = np.array([[1, 2], [3, 4]])\n",
    "n = np.array([[5, 6], [7, 8]])\n",
    "p = np.concatenate((m, n))\n",
    "q = np.concatenate((m, n), axis=1)\n",
    "print(p)\n",
    "print(q)"
   ]
  },
  {
   "cell_type": "code",
   "execution_count": 41,
   "id": "f16fba26-ff37-438c-b0fc-36344d00083b",
   "metadata": {},
   "outputs": [
    {
     "name": "stdout",
     "output_type": "stream",
     "text": [
      "[[1 5]\n",
      " [2 6]\n",
      " [3 7]\n",
      " [4 8]]\n"
     ]
    }
   ],
   "source": [
    "r = np.stack((a, b), axis=1)\n",
    "print(r)"
   ]
  },
  {
   "cell_type": "code",
   "execution_count": 42,
   "id": "7e3ac686-c6c9-4cea-baa7-ff505092cb19",
   "metadata": {},
   "outputs": [
    {
     "name": "stdout",
     "output_type": "stream",
     "text": [
      "[1 2 3 4 5 6 7 8]\n",
      "[[1 2 3 4]\n",
      " [5 6 7 8]]\n",
      "[[[1 5]\n",
      "  [2 6]\n",
      "  [3 7]\n",
      "  [4 8]]]\n"
     ]
    }
   ],
   "source": [
    "s = np.hstack((a, b))\n",
    "t = np.vstack((a, b))\n",
    "u = np.dstack((a, b))\n",
    "print(s)\n",
    "print(t)\n",
    "print(u)"
   ]
  },
  {
   "cell_type": "markdown",
   "id": "dd828bad-c93c-41d0-a622-b105e4250433",
   "metadata": {},
   "source": [
    "## 10. Splitting arrays"
   ]
  },
  {
   "cell_type": "code",
   "execution_count": 43,
   "id": "979a0426-ab84-45fe-8922-0cd57f779995",
   "metadata": {},
   "outputs": [
    {
     "name": "stdout",
     "output_type": "stream",
     "text": [
      "[array([1, 2, 3, 4, 5]), array([ 6,  7,  8,  9, 10])]\n",
      "[7 8 9]\n"
     ]
    }
   ],
   "source": [
    "sq = np.array([1, 2, 3, 4, 5, 6, 7, 8, 9, 10])\n",
    "splt_arr = np.array_split(sq, 2)\n",
    "print(splt_arr)\n",
    "print(splt_arr[1][1:4])"
   ]
  },
  {
   "cell_type": "code",
   "execution_count": 44,
   "id": "e1382081-e303-41e6-861a-be71c11ec7f9",
   "metadata": {},
   "outputs": [
    {
     "name": "stdout",
     "output_type": "stream",
     "text": [
      "[array([[1, 2],\n",
      "       [3, 4]]), array([[5, 6],\n",
      "       [7, 8]]), array([[ 9, 10],\n",
      "       [11, 12]])]\n",
      "[11 12]\n"
     ]
    }
   ],
   "source": [
    "sq_1 = np.array([[1, 2], [3, 4], [5, 6], [7, 8], [9, 10], [11, 12]])\n",
    "splt_arr_1 = np.array_split(sq_1, 3)\n",
    "print(splt_arr_1)\n",
    "print(splt_arr_1[2][1])"
   ]
  },
  {
   "cell_type": "code",
   "execution_count": 45,
   "id": "58f200d9-9a93-4da7-92cc-380c1ec01a8f",
   "metadata": {},
   "outputs": [
    {
     "name": "stdout",
     "output_type": "stream",
     "text": [
      "[array([[ 1],\n",
      "       [ 3],\n",
      "       [ 5],\n",
      "       [ 7],\n",
      "       [ 9],\n",
      "       [11]]), array([[ 2],\n",
      "       [ 4],\n",
      "       [ 6],\n",
      "       [ 8],\n",
      "       [10],\n",
      "       [12]])]\n"
     ]
    }
   ],
   "source": [
    "splt_arr_2 = np.array_split(sq_1, 2, axis=1)\n",
    "print(splt_arr_2)"
   ]
  },
  {
   "cell_type": "code",
   "execution_count": 46,
   "id": "97dea851-350d-4ab6-98d4-af130200eb82",
   "metadata": {},
   "outputs": [
    {
     "name": "stdout",
     "output_type": "stream",
     "text": [
      "[array([[ 1],\n",
      "       [ 3],\n",
      "       [ 5],\n",
      "       [ 7],\n",
      "       [ 9],\n",
      "       [11]]), array([[ 2],\n",
      "       [ 4],\n",
      "       [ 6],\n",
      "       [ 8],\n",
      "       [10],\n",
      "       [12]])]\n"
     ]
    }
   ],
   "source": [
    "splt_arr_2 = np.hsplit(sq_1, 2)\n",
    "print(splt_arr_2)"
   ]
  },
  {
   "cell_type": "markdown",
   "id": "5370022d-1711-4913-955b-cd28f3a462ae",
   "metadata": {},
   "source": [
    "## 11. Searching arrays"
   ]
  },
  {
   "cell_type": "code",
   "execution_count": 47,
   "id": "bdbe17bb-cace-4d0f-a976-02aab1c816b7",
   "metadata": {},
   "outputs": [
    {
     "name": "stdout",
     "output_type": "stream",
     "text": [
      "[ 1  2  3  4  5  6  7  8  9 10 11 12]\n"
     ]
    }
   ],
   "source": [
    "print(numarr)"
   ]
  },
  {
   "cell_type": "code",
   "execution_count": 48,
   "id": "714b2ae8-8b41-4673-9447-6260ffa71145",
   "metadata": {},
   "outputs": [
    {
     "name": "stdout",
     "output_type": "stream",
     "text": [
      "(array([5], dtype=int64),)\n"
     ]
    }
   ],
   "source": [
    "print(np.where(numarr == 6))"
   ]
  },
  {
   "cell_type": "code",
   "execution_count": 49,
   "id": "0391b3cf-b595-4760-826a-021c229fa05a",
   "metadata": {},
   "outputs": [
    {
     "name": "stdout",
     "output_type": "stream",
     "text": [
      "(array([ 1,  3,  5,  7,  9, 11], dtype=int64),)\n"
     ]
    }
   ],
   "source": [
    "print(np.where(numarr%2 == 0))"
   ]
  },
  {
   "cell_type": "code",
   "execution_count": 50,
   "id": "27bfae06-350c-422f-9d25-50da78afa269",
   "metadata": {},
   "outputs": [
    {
     "name": "stdout",
     "output_type": "stream",
     "text": [
      "[0 2 3 4 7 8 9]\n",
      "4\n"
     ]
    }
   ],
   "source": [
    "rn = np.array([0, 2, 3, 4, 7, 8, 9])\n",
    "print(rn)\n",
    "print(np.searchsorted(rn, 5))"
   ]
  },
  {
   "cell_type": "code",
   "execution_count": 51,
   "id": "9ade35c2-1f4c-49d9-99bb-a62ceaa442f1",
   "metadata": {},
   "outputs": [
    {
     "name": "stdout",
     "output_type": "stream",
     "text": [
      "[4 4 0 4 2]\n"
     ]
    }
   ],
   "source": [
    "print(np.searchsorted(rn, [5, 7,-2, 6, 2.4]))"
   ]
  },
  {
   "cell_type": "markdown",
   "id": "19ed1981-2c99-41f3-ba67-ce03f78c8927",
   "metadata": {},
   "source": [
    "## 12. Sorting arrays"
   ]
  },
  {
   "cell_type": "code",
   "execution_count": 52,
   "id": "8caced03-3063-4e77-9571-a7495ae28dc2",
   "metadata": {},
   "outputs": [
    {
     "name": "stdout",
     "output_type": "stream",
     "text": [
      "[0 1 2 3 4 5 7 8]\n"
     ]
    }
   ],
   "source": [
    "ef = np.array([3, 2, 7, 4, 1, 0, 8, 5])\n",
    "print(np.sort(ef))"
   ]
  },
  {
   "cell_type": "code",
   "execution_count": 53,
   "id": "faae7fac-8e6d-4d26-9159-2fe61f6d3319",
   "metadata": {},
   "outputs": [
    {
     "name": "stdout",
     "output_type": "stream",
     "text": [
      "[[ 2  3  7]\n",
      " [ 0  1  4]\n",
      " [-2  5  8]]\n"
     ]
    }
   ],
   "source": [
    "ds = np.array([[3, 2, 7], [4, 1, 0], [8, 5, -2]])\n",
    "print(np.sort(ds))"
   ]
  },
  {
   "cell_type": "code",
   "execution_count": 54,
   "id": "3b41f695-fd9c-472a-b9ca-cc3ad8c31bcb",
   "metadata": {},
   "outputs": [
    {
     "name": "stdout",
     "output_type": "stream",
     "text": [
      "['apple' 'banana' 'cherry' 'mango']\n"
     ]
    }
   ],
   "source": [
    "fr = np.array(['mango', 'cherry', 'apple', 'banana'])\n",
    "print(np.sort(fr))"
   ]
  },
  {
   "cell_type": "markdown",
   "id": "fd502467-7a54-49bb-a043-0f3769138334",
   "metadata": {},
   "source": [
    "## 13. Filtering arrays"
   ]
  },
  {
   "cell_type": "code",
   "execution_count": 55,
   "id": "e46eb66a-8ba4-4f87-89d1-c953b580655f",
   "metadata": {},
   "outputs": [
    {
     "name": "stdout",
     "output_type": "stream",
     "text": [
      "[3 2 7 4 1 0 8 5]\n"
     ]
    }
   ],
   "source": [
    "print(ef)"
   ]
  },
  {
   "cell_type": "code",
   "execution_count": 56,
   "id": "68a6c283-92aa-44d8-9c41-b159fce37de4",
   "metadata": {},
   "outputs": [
    {
     "name": "stdout",
     "output_type": "stream",
     "text": [
      "[3 2 4 8]\n"
     ]
    }
   ],
   "source": [
    "em = [True, True, False, True, False, False, True, False]\n",
    "print(ef[em])"
   ]
  },
  {
   "cell_type": "code",
   "execution_count": 57,
   "id": "553649c5-d461-42d5-b2a2-d3336b933638",
   "metadata": {},
   "outputs": [
    {
     "name": "stdout",
     "output_type": "stream",
     "text": [
      "[7 8 5]\n"
     ]
    }
   ],
   "source": [
    "em1 = []\n",
    "for i in ef:\n",
    "    em1.append(i > 4)\n",
    "print(ef[em1])"
   ]
  },
  {
   "cell_type": "code",
   "execution_count": 58,
   "id": "b212f8bf-9062-4c7b-bfcb-9380fc8dc002",
   "metadata": {},
   "outputs": [
    {
     "name": "stdout",
     "output_type": "stream",
     "text": [
      "[2 4 0 8]\n"
     ]
    }
   ],
   "source": [
    "em2 = ef % 2 == 0\n",
    "print(ef[em2])"
   ]
  },
  {
   "cell_type": "markdown",
   "id": "8b22d66e-2a0a-4fe6-be0b-b8a594cbd953",
   "metadata": {},
   "source": [
    "## 14. Random numbers"
   ]
  },
  {
   "cell_type": "code",
   "execution_count": 59,
   "id": "9ebedd9b-f562-4883-9be6-1e6fe52cbc08",
   "metadata": {},
   "outputs": [
    {
     "name": "stdout",
     "output_type": "stream",
     "text": [
      "69\n"
     ]
    }
   ],
   "source": [
    "print(np.random.randint(100))"
   ]
  },
  {
   "cell_type": "code",
   "execution_count": 60,
   "id": "9fe808ec-9c9b-480b-8509-b162186b0189",
   "metadata": {},
   "outputs": [
    {
     "name": "stdout",
     "output_type": "stream",
     "text": [
      "0.7305532623030475\n"
     ]
    }
   ],
   "source": [
    "print(np.random.rand())"
   ]
  },
  {
   "cell_type": "code",
   "execution_count": 61,
   "id": "ed731200-8351-4558-9e8a-723d7301b183",
   "metadata": {},
   "outputs": [
    {
     "name": "stdout",
     "output_type": "stream",
     "text": [
      "[ 5 81 98 54 25]\n"
     ]
    }
   ],
   "source": [
    "print(np.random.randint(100, size=(5)))"
   ]
  },
  {
   "cell_type": "code",
   "execution_count": 62,
   "id": "f5ff4e07-dca2-4a8e-94af-9a912750e08c",
   "metadata": {},
   "outputs": [
    {
     "name": "stdout",
     "output_type": "stream",
     "text": [
      "[[71 79 20 72 37]\n",
      " [28  3 41  7 49]\n",
      " [56 94 23 37 14]]\n"
     ]
    }
   ],
   "source": [
    "print(np.random.randint(100, size=(3, 5)))"
   ]
  },
  {
   "cell_type": "code",
   "execution_count": 63,
   "id": "cb7429ff-c3c3-46ba-a8de-ba53c05ffd3d",
   "metadata": {},
   "outputs": [
    {
     "name": "stdout",
     "output_type": "stream",
     "text": [
      "[[0.13787161 0.92089769 0.01719852]\n",
      " [0.31901565 0.62494208 0.81756947]]\n"
     ]
    }
   ],
   "source": [
    "print(np.random.rand(2, 3))"
   ]
  },
  {
   "cell_type": "code",
   "execution_count": 64,
   "id": "e171fac7-3c27-4b34-b8d8-40a5699a847b",
   "metadata": {},
   "outputs": [
    {
     "name": "stdout",
     "output_type": "stream",
     "text": [
      "[[8 0 6 8 8]\n",
      " [1 2 3 8 0]]\n"
     ]
    }
   ],
   "source": [
    "print(np.random.choice([2, 4, 1, 6, 8, 0, 3], size=(2, 5)))"
   ]
  },
  {
   "cell_type": "markdown",
   "id": "de1f8c0d-149c-433c-856f-41367bee5d9f",
   "metadata": {},
   "source": [
    "## 15. Random data distribution (Probability density function)"
   ]
  },
  {
   "cell_type": "code",
   "execution_count": 65,
   "id": "cdc29c9b-4318-468d-a885-6697009dc19c",
   "metadata": {},
   "outputs": [
    {
     "name": "stdout",
     "output_type": "stream",
     "text": [
      "[0 2 3 2 3 3 3 0 3 3 0 0 6 3 6 0 3 0 3 3 0 3 6 3 0 3 3 0 0 0 3 6 3 2 3 2 6\n",
      " 3 0 0 6 6 6 0 0 3 3 0 6 6]\n",
      "[0 0 0 0 0 0 0 0 0 0 0 0 0 0 0 0 2 2 2 2 3 3 3 3 3 3 3 3 3 3 3 3 3 3 3 3 3\n",
      " 3 3 3 6 6 6 6 6 6 6 6 6 6]\n"
     ]
    }
   ],
   "source": [
    "rnd = np.random.choice([2, 3, 6, 1, 0], size=(50), p=[0.1, 0.4, 0.2, 0.0, 0.3])\n",
    "print(rnd)\n",
    "print(np.sort(rnd))"
   ]
  },
  {
   "cell_type": "markdown",
   "id": "9e97f8e5-ee7e-4f18-b411-86b8440f4a16",
   "metadata": {},
   "source": [
    "## 16. Permutation and Shuffling"
   ]
  },
  {
   "cell_type": "code",
   "execution_count": 66,
   "id": "981f38b0-d749-45a3-bec0-30b0ba2fed04",
   "metadata": {},
   "outputs": [
    {
     "name": "stdout",
     "output_type": "stream",
     "text": [
      "[27 33 83 17 24 75 12  8 99 60]\n",
      "[74 69 86 58 53 72 78 33 13 11]\n"
     ]
    }
   ],
   "source": [
    "bn = np.random.randint(100, size=(10))\n",
    "qn = np.random.randint(100, size=(10))\n",
    "print(bn)\n",
    "print(qn)"
   ]
  },
  {
   "cell_type": "code",
   "execution_count": 67,
   "id": "682c6c72-f18b-4af6-93f9-d6db90d6f9fb",
   "metadata": {},
   "outputs": [
    {
     "name": "stdout",
     "output_type": "stream",
     "text": [
      "[33 83 17 99 27 24 75 12 60  8]\n"
     ]
    }
   ],
   "source": [
    "np.random.shuffle(bn)   # shuffle changes the original array\n",
    "print(bn)"
   ]
  },
  {
   "cell_type": "code",
   "execution_count": 68,
   "id": "086db53a-8d2c-4635-b331-39a04cf51fe6",
   "metadata": {},
   "outputs": [
    {
     "name": "stdout",
     "output_type": "stream",
     "text": [
      "[78 33 72 74 58 69 13 53 86 11]\n",
      "[74 69 86 58 53 72 78 33 13 11]\n"
     ]
    }
   ],
   "source": [
    "print(np.random.permutation(qn))   # permutation doesn't change the original array\n",
    "print(qn)"
   ]
  },
  {
   "cell_type": "markdown",
   "id": "cd000c07-c59d-4ec9-af50-f29bc8bcb1be",
   "metadata": {},
   "source": [
    "## 17. Visualizing distributions using Seaborn"
   ]
  },
  {
   "cell_type": "code",
   "execution_count": 69,
   "id": "43ea2eb7-428a-4f12-870b-9470e813a165",
   "metadata": {},
   "outputs": [
    {
     "name": "stdout",
     "output_type": "stream",
     "text": [
      "0.13.2\n"
     ]
    }
   ],
   "source": [
    "# importing matplotlib.pyplot and seaborn\n",
    "import matplotlib.pyplot as plt\n",
    "import seaborn as sns\n",
    "print(sns.__version__)"
   ]
  },
  {
   "cell_type": "code",
   "execution_count": 70,
   "id": "f68e895e-eaff-46ea-966a-699e4e2350d3",
   "metadata": {},
   "outputs": [
    {
     "data": {
      "image/png": "[encoded data removed]",
      "text/plain": [
       "<Figure size 640x480 with 1 Axes>"
      ]
     },
     "metadata": {},
     "output_type": "display_data"
    }
   ],
   "source": [
    "# distribution plot\n",
    "sns.distplot([0, 1, 2, 3, 4, 5])\n",
    "plt.show()"
   ]
  },
  {
   "cell_type": "code",
   "execution_count": 71,
   "id": "28e5cc83-3a1a-4321-8aea-5bb4d26dc74d",
   "metadata": {},
   "outputs": [
    {
     "data": {
      "image/png": "[encoded data removed]",
      "text/plain": [
       "<Figure size 640x480 with 1 Axes>"
      ]
     },
     "metadata": {},
     "output_type": "display_data"
    }
   ],
   "source": [
    "# distribution plot without histogram\n",
    "sns.distplot([0, 1, 2, 3, 4, 5], hist=False)\n",
    "plt.show()"
   ]
  },
  {
   "cell_type": "markdown",
   "id": "13c07472-d385-488f-9275-eb0ee82b3cbb",
   "metadata": {},
   "source": [
    "## 18. Normal(Gaussian/Bell) distribution"
   ]
  },
  {
   "cell_type": "code",
   "execution_count": 72,
   "id": "cad6e3f3-5c6e-4954-a83b-7d26a66d51b8",
   "metadata": {},
   "outputs": [
    {
     "name": "stdout",
     "output_type": "stream",
     "text": [
      "[[-1.14335083  0.15294375 -0.39089336]\n",
      " [ 1.39212647  1.22409259 -0.30385197]]\n"
     ]
    }
   ],
   "source": [
    "ndist = np.random.normal(size=(2, 3))\n",
    "print(ndist)"
   ]
  },
  {
   "cell_type": "code",
   "execution_count": 73,
   "id": "bbb375eb-6511-46bf-82cd-892d0bb63f61",
   "metadata": {},
   "outputs": [
    {
     "name": "stdout",
     "output_type": "stream",
     "text": [
      "[[1.05201156 2.80666702]\n",
      " [0.46155424 1.43696182]\n",
      " [0.27543357 2.1657789 ]]\n"
     ]
    }
   ],
   "source": [
    "# loc(mean), scale(standard deviation)\n",
    "ndist0 = np.random.normal(loc=1, scale=2, size=(3, 2))\n",
    "print(ndist0)"
   ]
  },
  {
   "cell_type": "code",
   "execution_count": 74,
   "id": "50ca6d56-7cbe-4010-b707-d23a3d413731",
   "metadata": {},
   "outputs": [
    {
     "data": {
      "image/png": "[encoded data removed]",
      "text/plain": [
       "<Figure size 640x480 with 1 Axes>"
      ]
     },
     "metadata": {},
     "output_type": "display_data"
    }
   ],
   "source": [
    "ndist1 = np.random.normal(size=(100))\n",
    "sns.distplot(ndist, hist=False)\n",
    "plt.show()"
   ]
  },
  {
   "cell_type": "markdown",
   "id": "0c38db5d-fcc3-4089-b12a-3e17d8f58a31",
   "metadata": {},
   "source": [
    "## 19. Binomial(Discrete) distribution"
   ]
  },
  {
   "cell_type": "code",
   "execution_count": 75,
   "id": "81f8b66b-43d1-402b-8062-a8973c624daf",
   "metadata": {},
   "outputs": [
    {
     "name": "stdout",
     "output_type": "stream",
     "text": [
      "[5 5 6 5 7 5 5 4 5 5 6 5 8 6 7 4 9 7 4 6 6 8 5 3 7 5 5 3 7 4 3 5 7 7 2 7 5\n",
      " 6 6 5 7 7 6 7 3 4 7 5 3 6 3 4 5 5 7 7 5 6 5 6 6 4 7 5 3 3 3 7 6 2 3 5 7 5\n",
      " 2 5 4 3 2 6 5 4 7 3 5 6 6 5 8 3 1 2 5 7 5 3 4 7 8 2]\n"
     ]
    }
   ],
   "source": [
    "bnm = np.random.binomial(n=10, p=0.5, size=100)\n",
    "print(bnm)"
   ]
  },
  {
   "cell_type": "code",
   "execution_count": 76,
   "id": "e96b13da-1dc3-47fc-9cce-35d2988b8308",
   "metadata": {},
   "outputs": [
    {
     "data": {
      "image/png": "[encoded data removed]",
      "text/plain": [
       "<Figure size 640x480 with 1 Axes>"
      ]
     },
     "metadata": {},
     "output_type": "display_data"
    }
   ],
   "source": [
    "sns.distplot(bnm)\n",
    "plt.show()"
   ]
  },
  {
   "cell_type": "markdown",
   "id": "df90e29e-f293-493c-87e2-d552786d5829",
   "metadata": {},
   "source": [
    "## 20. Poisson distribution"
   ]
  },
  {
   "cell_type": "code",
   "execution_count": 77,
   "id": "388e6e56-e31c-430e-9aeb-f2181a31c65f",
   "metadata": {},
   "outputs": [
    {
     "data": {
      "image/png": "[encoded data removed]",
      "text/plain": [
       "<Figure size 640x480 with 1 Axes>"
      ]
     },
     "metadata": {},
     "output_type": "display_data"
    }
   ],
   "source": [
    "sns.distplot(np.random.poisson(lam=2, size=100), hist=False)\n",
    "plt.show()"
   ]
  },
  {
   "cell_type": "markdown",
   "id": "1e216063-2ea0-426d-93a3-2de528a5b24a",
   "metadata": {},
   "source": [
    "## 21. Uniform distribution"
   ]
  },
  {
   "cell_type": "code",
   "execution_count": 78,
   "id": "3092768e-0183-484b-aee6-7b223478e9cc",
   "metadata": {},
   "outputs": [
    {
     "data": {
      "image/png": "[encoded data removed]",
      "text/plain": [
       "<Figure size 640x480 with 1 Axes>"
      ]
     },
     "metadata": {},
     "output_type": "display_data"
    }
   ],
   "source": [
    "sns.distplot(np.random.uniform(size=(2, 3)), hist=False)\n",
    "plt.show()"
   ]
  },
  {
   "cell_type": "markdown",
   "id": "5860aaad-4d25-4aae-91c6-3d56f8741e94",
   "metadata": {},
   "source": [
    "## 22. Logistic distribution"
   ]
  },
  {
   "cell_type": "code",
   "execution_count": 79,
   "id": "c671f0d0-4da2-499c-92cc-b806821f2779",
   "metadata": {},
   "outputs": [
    {
     "data": {
      "image/png": "[encoded data removed]",
      "text/plain": [
       "<Figure size 640x480 with 1 Axes>"
      ]
     },
     "metadata": {},
     "output_type": "display_data"
    }
   ],
   "source": [
    "pl = np.random.logistic(loc=1.0, scale=2.0, size=1000)\n",
    "sns.distplot(pl, hist=False)\n",
    "plt.show()"
   ]
  },
  {
   "cell_type": "markdown",
   "id": "21cdbee7-1735-4540-8716-e26df613358a",
   "metadata": {},
   "source": [
    "## 23. Multinomial distribution"
   ]
  },
  {
   "cell_type": "code",
   "execution_count": 80,
   "id": "4ac4fd8e-253c-465b-a438-1437a53f445f",
   "metadata": {},
   "outputs": [
    {
     "name": "stdout",
     "output_type": "stream",
     "text": [
      "[1 1 2 1 1 0]\n"
     ]
    }
   ],
   "source": [
    "dc = np.random.multinomial(n=6, pvals=[1/6, 1/6, 1/6, 1/6, 1/6, 1/6])\n",
    "print(dc)"
   ]
  },
  {
   "cell_type": "markdown",
   "id": "41238262-23e3-48b7-a5d4-6ee1eed443ab",
   "metadata": {},
   "source": [
    "## 24. Exponential distribution"
   ]
  },
  {
   "cell_type": "code",
   "execution_count": 81,
   "id": "109c554e-831a-4ad9-a2d5-64f65ddb8d95",
   "metadata": {},
   "outputs": [
    {
     "data": {
      "image/png": "[encoded data removed]",
      "text/plain": [
       "<Figure size 640x480 with 1 Axes>"
      ]
     },
     "metadata": {},
     "output_type": "display_data"
    }
   ],
   "source": [
    "sns.distplot(np.random.exponential(scale=2.0, size=1000), hist=False)\n",
    "plt.show()"
   ]
  },
  {
   "cell_type": "markdown",
   "id": "cf86b4b6-af06-4a4a-9334-45f5c15ba264",
   "metadata": {},
   "source": [
    "## 25. Chi square distribution"
   ]
  },
  {
   "cell_type": "code",
   "execution_count": 82,
   "id": "89ae10c2-e9e6-42f7-a3cd-1c8232281aeb",
   "metadata": {},
   "outputs": [
    {
     "data": {
      "image/png": "[encoded data removed]",
      "text/plain": [
       "<Figure size 640x480 with 1 Axes>"
      ]
     },
     "metadata": {},
     "output_type": "display_data"
    }
   ],
   "source": [
    "sns.distplot(np.random.chisquare(df=3, size=1000), hist=False)\n",
    "plt.show()"
   ]
  },
  {
   "cell_type": "markdown",
   "id": "a527a80d-5ae0-4af7-852b-0cedc1e43f08",
   "metadata": {},
   "source": [
    "## 26.Rayleigh distribution"
   ]
  },
  {
   "cell_type": "code",
   "execution_count": 83,
   "id": "704a525c-97eb-43ef-a621-7de2dc5e1e74",
   "metadata": {},
   "outputs": [
    {
     "data": {
      "image/png": "[encoded data removed]",
      "text/plain": [
       "<Figure size 640x480 with 1 Axes>"
      ]
     },
     "metadata": {},
     "output_type": "display_data"
    }
   ],
   "source": [
    "sns.distplot(np.random.rayleigh(scale=3.0, size=1000), hist=False)\n",
    "plt.show()"
   ]
  },
  {
   "cell_type": "markdown",
   "id": "e61e08ae-580c-48e9-965d-4558d1a7b917",
   "metadata": {},
   "source": [
    "## 27. Pareto distribution"
   ]
  },
  {
   "cell_type": "code",
   "execution_count": 84,
   "id": "9e77eaf8-816f-49a0-921a-dbc96b54f786",
   "metadata": {},
   "outputs": [
    {
     "data": {
      "image/png": "[encoded data removed]",
      "text/plain": [
       "<Figure size 640x480 with 1 Axes>"
      ]
     },
     "metadata": {},
     "output_type": "display_data"
    }
   ],
   "source": [
    "sns.distplot(np.random.pareto(a=3, size=1000), hist=False)\n",
    "plt.show()"
   ]
  },
  {
   "cell_type": "markdown",
   "id": "3d16eddc-f916-4401-baab-8790a489340f",
   "metadata": {},
   "source": [
    "## 28. Zipf distribution"
   ]
  },
  {
   "cell_type": "code",
   "execution_count": 85,
   "id": "bda3fea0-0180-4f33-9145-6fea6fcbb50e",
   "metadata": {},
   "outputs": [
    {
     "data": {
      "image/png": "[encoded data removed]",
      "text/plain": [
       "<Figure size 640x480 with 1 Axes>"
      ]
     },
     "metadata": {},
     "output_type": "display_data"
    }
   ],
   "source": [
    "sns.distplot(np.random.zipf(a=3, size=1000), hist=False)\n",
    "plt.show()"
   ]
  },
  {
   "cell_type": "markdown",
   "id": "ae981559-e3fa-430c-be72-62df74665052",
   "metadata": {},
   "source": [
    "## 29. Ufuncs in NumPy"
   ]
  },
  {
   "cell_type": "code",
   "execution_count": 86,
   "id": "9aa88168-6273-49f6-947a-d04bd512b425",
   "metadata": {},
   "outputs": [
    {
     "name": "stdout",
     "output_type": "stream",
     "text": [
      "[5, 7, 9, 11]\n"
     ]
    }
   ],
   "source": [
    "x = [1, 2, 3, 4]\n",
    "y = [4, 5, 6, 7]\n",
    "z = []\n",
    "for i, j in zip(x, y):\n",
    "    z.append(i+j)\n",
    "print(z)"
   ]
  },
  {
   "cell_type": "code",
   "execution_count": 87,
   "id": "2c1318f2-dfa1-4df1-a34f-f7597f1162a0",
   "metadata": {},
   "outputs": [
    {
     "name": "stdout",
     "output_type": "stream",
     "text": [
      "[ 5  7  9 11]\n"
     ]
    }
   ],
   "source": [
    "b = np.add(x, y)\n",
    "print(b)"
   ]
  },
  {
   "cell_type": "code",
   "execution_count": 88,
   "id": "cedf1f6c-6d2d-4a10-af46-9e37762c8368",
   "metadata": {},
   "outputs": [
    {
     "name": "stdout",
     "output_type": "stream",
     "text": [
      "[6 8 10 12]\n"
     ]
    }
   ],
   "source": [
    "# creating a ufunc\n",
    "def addition(x, y):\n",
    "    return x + y\n",
    "\n",
    "add_ufunc = np.frompyfunc(addition, 2, 1)\n",
    "\n",
    "x = np.array([1, 2, 3, 4])\n",
    "y = np.array([5, 6, 7, 8])\n",
    "\n",
    "print(add_ufunc(x, y))"
   ]
  },
  {
   "cell_type": "code",
   "execution_count": 91,
   "id": "8e6757ee-23dd-4371-8650-5c06c4afeb44",
   "metadata": {},
   "outputs": [
    {
     "name": "stdout",
     "output_type": "stream",
     "text": [
      "<class 'numpy.ufunc'> <class 'function'>\n"
     ]
    }
   ],
   "source": [
    "print(type(add_ufunc), type(addition))"
   ]
  },
  {
   "cell_type": "markdown",
   "id": "056dde30-0148-425c-95c6-2dc5e9a2a7f0",
   "metadata": {},
   "source": [
    "## 30. Arithmetic Ufuncs"
   ]
  },
  {
   "cell_type": "code",
   "execution_count": 93,
   "id": "849f5d2a-cebd-4681-baee-a28f5a757475",
   "metadata": {},
   "outputs": [
    {
     "name": "stdout",
     "output_type": "stream",
     "text": [
      "[4 5 8 2] [2 3 1 2]\n"
     ]
    }
   ],
   "source": [
    "m = np.array([4, 5, 8, 2])\n",
    "n = np.array([2, 3, 1, 2])\n",
    "print (m, n)"
   ]
  },
  {
   "cell_type": "code",
   "execution_count": 94,
   "id": "8012ddf9-6131-44cc-9d16-81e0077ae36a",
   "metadata": {},
   "outputs": [
    {
     "name": "stdout",
     "output_type": "stream",
     "text": [
      "[6 8 9 4]\n",
      "[2 2 7 0]\n",
      "[ 8 15  8  4]\n",
      "[2.         1.66666667 8.         1.        ]\n",
      "[0 2 0 0]\n",
      "[0 2 0 0]\n",
      "(array([2, 1, 8, 1]), array([0, 2, 0, 0]))\n",
      "[4 5 8 2]\n"
     ]
    }
   ],
   "source": [
    "print(np.add(m, n))\n",
    "print(np.subtract(m, n))\n",
    "print(np.multiply(m, n))\n",
    "print(np.divide(m, n))\n",
    "print(np.mod(m, n))\n",
    "print(np.remainder(m, n))\n",
    "print(np.divmod(m, n))\n",
    "print(np.absolute(m))"
   ]
  },
  {
   "cell_type": "markdown",
   "id": "63f6c6d9-dcfb-4401-b7a2-5e2b68cc0acb",
   "metadata": {},
   "source": [
    "## 31. Rounding decimals"
   ]
  },
  {
   "cell_type": "code",
   "execution_count": 95,
   "id": "7feff2d1-cbec-484e-8b89-f3271d2b26f2",
   "metadata": {},
   "outputs": [
    {
     "name": "stdout",
     "output_type": "stream",
     "text": [
      "[-4.  4.]\n",
      "[-4.  4.]\n",
      "5.23\n",
      "5.3\n",
      "[-5.  4.]\n",
      "[-4.  5.]\n"
     ]
    }
   ],
   "source": [
    "print(np.trunc([-4.232, 4.522]))\n",
    "print(np.fix([-4.232, 4.522]))\n",
    "print(np.around(5.234, 2))\n",
    "print(np.around(5.254, 1))\n",
    "print(np.floor([-4.232, 4.522]))\n",
    "print(np.ceil([-4.232, 4.522]))"
   ]
  },
  {
   "cell_type": "markdown",
   "id": "e4cc35d0-ffaf-4b99-a0e4-be4ee198155c",
   "metadata": {},
   "source": [
    "## 32. Summations and cumulative sums"
   ]
  },
  {
   "cell_type": "code",
   "execution_count": 96,
   "id": "bbd26fbe-44da-4056-a0db-f3e898f42bdc",
   "metadata": {},
   "outputs": [
    {
     "name": "stdout",
     "output_type": "stream",
     "text": [
      "[1 2 3 4] [5 6 7 8]\n"
     ]
    }
   ],
   "source": [
    "print(x, y)"
   ]
  },
  {
   "cell_type": "code",
   "execution_count": 101,
   "id": "8616875e-6382-419a-89d5-f02c029da640",
   "metadata": {},
   "outputs": [
    {
     "name": "stdout",
     "output_type": "stream",
     "text": [
      "36\n",
      "[10 26]\n",
      "[ 1  3  6 10]\n"
     ]
    }
   ],
   "source": [
    "print(np.sum([x, y]))\n",
    "print(np.sum([x, y], axis=1))\n",
    "print(np.cumsum(x))"
   ]
  },
  {
   "cell_type": "markdown",
   "id": "f3528378-f68f-4d88-b28c-18a61830ffa4",
   "metadata": {},
   "source": [
    "## 33.Products and cumulative products"
   ]
  },
  {
   "cell_type": "code",
   "execution_count": 102,
   "id": "06dda1e3-003f-492d-b0fa-61d0b80aa375",
   "metadata": {},
   "outputs": [
    {
     "name": "stdout",
     "output_type": "stream",
     "text": [
      "[1 2 3 4] [5 6 7 8]\n"
     ]
    }
   ],
   "source": [
    "print(x, y)"
   ]
  },
  {
   "cell_type": "code",
   "execution_count": 103,
   "id": "17f72de7-5ff3-4aa2-9b93-fd533e7d6ac2",
   "metadata": {},
   "outputs": [
    {
     "name": "stdout",
     "output_type": "stream",
     "text": [
      "40320\n",
      "[  24 1680]\n",
      "[ 1  2  6 24]\n"
     ]
    }
   ],
   "source": [
    "print(np.prod([x, y]))\n",
    "print(np.prod([x, y], axis=1))\n",
    "print(np.cumprod(x))"
   ]
  },
  {
   "cell_type": "markdown",
   "id": "6e93ccd6-fe65-4a31-a0e5-f063a165c591",
   "metadata": {},
   "source": [
    "## 34. Differences"
   ]
  },
  {
   "cell_type": "code",
   "execution_count": 106,
   "id": "0543e070-7622-46ca-9ff7-eef7e961870d",
   "metadata": {},
   "outputs": [
    {
     "name": "stdout",
     "output_type": "stream",
     "text": [
      "[22 31]\n"
     ]
    }
   ],
   "source": [
    "z = np.array([23, 45, 76])\n",
    "print(np.diff(z))"
   ]
  },
  {
   "cell_type": "markdown",
   "id": "e79a38f0-bde1-4a8f-b32e-1c65eea3ee17",
   "metadata": {},
   "source": [
    "## 35. LCMs & HCFs"
   ]
  },
  {
   "cell_type": "code",
   "execution_count": 113,
   "id": "2d975f68-ab91-4161-b0a6-3672b54064d3",
   "metadata": {},
   "outputs": [
    {
     "name": "stdout",
     "output_type": "stream",
     "text": [
      "[1 2 3 4] [5 6 7 8]\n",
      "6\n",
      "12\n",
      "1\n"
     ]
    }
   ],
   "source": [
    "print(x, y)\n",
    "print(np.lcm(3, 6))\n",
    "print(np.lcm.reduce(x))\n",
    "print(np.gcd.reduce(x))"
   ]
  },
  {
   "cell_type": "markdown",
   "id": "6ee45e9a-0b94-49ad-af4e-79195e5513d3",
   "metadata": {},
   "source": [
    "## 36. Trigonometric functions"
   ]
  },
  {
   "cell_type": "code",
   "execution_count": 116,
   "id": "4aff21e4-d9e8-4d39-bd8d-4945ce85f917",
   "metadata": {},
   "outputs": [
    {
     "name": "stdout",
     "output_type": "stream",
     "text": [
      "1.0\n",
      "6.123233995736766e-17\n",
      "1.633123935319537e+16\n"
     ]
    }
   ],
   "source": [
    "print(np.sin(np.pi/2))\n",
    "print(np.cos(np.pi/2))\n",
    "print(np.tan(np.pi/2))"
   ]
  },
  {
   "cell_type": "code",
   "execution_count": 117,
   "id": "6c81f3ab-83d5-47f5-8d90-e985c4b00dcf",
   "metadata": {},
   "outputs": [
    {
     "name": "stdout",
     "output_type": "stream",
     "text": [
      "[ 1.0000000e+00  1.2246468e-16 -1.0000000e+00 -2.4492936e-16]\n"
     ]
    }
   ],
   "source": [
    "calc = np.array([np.pi/2, 2*np.pi/2, 3*np.pi/2, 4*np.pi/2])\n",
    "print(np.sin(calc))"
   ]
  },
  {
   "cell_type": "code",
   "execution_count": 120,
   "id": "9e0e769e-1acd-46d9-b228-a8cca89ddc6a",
   "metadata": {},
   "outputs": [
    {
     "name": "stdout",
     "output_type": "stream",
     "text": [
      "[1.57079633 3.14159265 4.71238898 6.28318531]\n",
      "[ 90. 180. 270. 360.]\n"
     ]
    }
   ],
   "source": [
    "deg = np.array([90, 180, 270, 360])\n",
    "print(np.deg2rad(deg))\n",
    "print(np.rad2deg(calc))"
   ]
  },
  {
   "cell_type": "code",
   "execution_count": 123,
   "id": "13f317e3-a536-499a-8134-27268970543a",
   "metadata": {},
   "outputs": [
    {
     "name": "stdout",
     "output_type": "stream",
     "text": [
      "1.5707963267948966\n",
      "0.0\n",
      "0.7853981633974483\n"
     ]
    }
   ],
   "source": [
    "print(np.arcsin(1.0))\n",
    "print(np.arccos(1.0))\n",
    "print(np.arctan(1.0))"
   ]
  },
  {
   "cell_type": "code",
   "execution_count": 122,
   "id": "ceee698a-3e26-41b5-a726-4065cb460f57",
   "metadata": {},
   "outputs": [
    {
     "name": "stdout",
     "output_type": "stream",
     "text": [
      "5.0\n"
     ]
    }
   ],
   "source": [
    "print(np.hypot(3, 4))"
   ]
  },
  {
   "cell_type": "markdown",
   "id": "bf6101da-7db9-47bd-ae2f-29646273407a",
   "metadata": {},
   "source": [
    "## 37. Hyperbolic functions"
   ]
  },
  {
   "cell_type": "code",
   "execution_count": 124,
   "id": "2f86c7f5-30ab-4f4c-a297-2900089e9680",
   "metadata": {},
   "outputs": [
    {
     "name": "stdout",
     "output_type": "stream",
     "text": [
      "2.3012989023072947\n",
      "2.5091784786580567\n",
      "0.9171523356672744\n"
     ]
    }
   ],
   "source": [
    "print(np.sinh(np.pi/2))\n",
    "print(np.cosh(np.pi/2))\n",
    "print(np.tanh(np.pi/2))"
   ]
  },
  {
   "cell_type": "code",
   "execution_count": 125,
   "id": "7d2afd34-e781-4ed9-997b-a80e75dc928c",
   "metadata": {},
   "outputs": [
    {
     "name": "stdout",
     "output_type": "stream",
     "text": [
      "[  2.50917848  11.59195328  55.66338089 267.74676148]\n"
     ]
    }
   ],
   "source": [
    "calc = np.array([np.pi/2, 2*np.pi/2, 3*np.pi/2, 4*np.pi/2])\n",
    "print(np.cosh(calc))"
   ]
  },
  {
   "cell_type": "code",
   "execution_count": 129,
   "id": "51e8afec-387e-493b-acb0-acf79514ff78",
   "metadata": {},
   "outputs": [
    {
     "name": "stdout",
     "output_type": "stream",
     "text": [
      "[ 0.42364893 -0.10033535  0.69314718]\n"
     ]
    }
   ],
   "source": [
    "val = np.array([0.4, -0.1, 0.6])\n",
    "print(np.arctanh(val))"
   ]
  },
  {
   "cell_type": "markdown",
   "id": "66d9e3e3-4fa0-412a-98d2-0e353ef9d91c",
   "metadata": {},
   "source": [
    "## 38. NumPy ufuncs set operations"
   ]
  },
  {
   "cell_type": "code",
   "execution_count": 131,
   "id": "427563a6-48e3-4fba-9076-5b53394bf7b9",
   "metadata": {},
   "outputs": [
    {
     "name": "stdout",
     "output_type": "stream",
     "text": [
      "[1 2 3 4 5 6 7]\n"
     ]
    }
   ],
   "source": [
    "print(np.unique(np.array([1, 1, 2, 3, 3, 4, 5, 6, 7, 7])))"
   ]
  },
  {
   "cell_type": "code",
   "execution_count": 132,
   "id": "75793518-48e4-4188-a560-7beebc6e9a94",
   "metadata": {},
   "outputs": [
    {
     "name": "stdout",
     "output_type": "stream",
     "text": [
      "[1 2 3 4 5 6]\n",
      "[3 4]\n",
      "[1 2]\n",
      "[1 2 5 6]\n"
     ]
    }
   ],
   "source": [
    "a = np.array([1, 2, 3, 4])\n",
    "b = np.array([3, 4, 5, 6])\n",
    "\n",
    "print(np.union1d(a, b))\n",
    "print(np.intersect1d(a, b))\n",
    "print(np.setdiff1d(a, b))\n",
    "print(np.setxor1d(a, b))"
   ]
  }
 ],
 "metadata": {
  "kernelspec": {
   "display_name": "Python 3 (ipykernel)",
   "language": "python",
   "name": "python3"
  },
  "language_info": {
   "codemirror_mode": {
    "name": "ipython",
    "version": 3
   },
   "file_extension": ".py",
   "mimetype": "text/x-python",
   "name": "python",
   "nbconvert_exporter": "python",
   "pygments_lexer": "ipython3",
   "version": "3.10.5"
  }
 },
 "nbformat": 4,
 "nbformat_minor": 5
}
